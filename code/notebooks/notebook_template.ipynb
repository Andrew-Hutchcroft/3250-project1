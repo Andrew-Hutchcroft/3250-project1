{
 "cells": [
  {
   "cell_type": "markdown",
   "id": "dfecf795-abaf-4e44-9cba-f6f28a8c70a0",
   "metadata": {},
   "source": [
    "# Project name"
   ]
  },
  {
   "cell_type": "markdown",
   "id": "fca5789c-9143-4688-a49b-82d147aa27ea",
   "metadata": {},
   "source": [
    "**Author:** Andrew Hutchcroft  \n",
    "**Last modified:** 11/17/2024 (created: 11/17/2024)  \n",
    "\n",
    "**Description:** I am exploring data about the top soccer players of all times achievements. "
   ]
  },
  {
   "cell_type": "markdown",
   "id": "a44ee9f2-75e6-4f33-b99e-100eff8ca466",
   "metadata": {},
   "source": [
    "<br>"
   ]
  },
  {
   "cell_type": "markdown",
   "id": "f6ab5c76-2d13-45e5-9c62-a8aa96918db9",
   "metadata": {},
   "source": [
    "Import libraries:"
   ]
  },
  {
   "cell_type": "code",
   "execution_count": 2,
   "id": "5ac2e3bf-9d0e-49ed-b5db-98c8d083bf01",
   "metadata": {},
   "outputs": [
    {
     "ename": "ModuleNotFoundError",
     "evalue": "No module named 'pandas'",
     "output_type": "error",
     "traceback": [
      "\u001b[0;31m---------------------------------------------------------------------------\u001b[0m",
      "\u001b[0;31mModuleNotFoundError\u001b[0m                       Traceback (most recent call last)",
      "Cell \u001b[0;32mIn[2], line 1\u001b[0m\n\u001b[0;32m----> 1\u001b[0m \u001b[38;5;28;01mimport\u001b[39;00m \u001b[38;5;21;01mpandas\u001b[39;00m \u001b[38;5;28;01mas\u001b[39;00m \u001b[38;5;21;01mpd\u001b[39;00m\n",
      "\u001b[0;31mModuleNotFoundError\u001b[0m: No module named 'pandas'"
     ]
    }
   ],
   "source": [
    "import pandas as pd"
   ]
  },
  {
   "cell_type": "markdown",
   "id": "aef1f8f8-7d78-468f-afea-2ca01ab3f2e7",
   "metadata": {},
   "source": [
    "Load data: "
   ]
  },
  {
   "cell_type": "code",
   "execution_count": null,
   "id": "3162578a-a6a0-4e0a-b058-d48043d041d0",
   "metadata": {},
   "outputs": [],
   "source": [
    "soccer_data = pd.read_csv('/Users/andrewhutchcroft/Desktop/Data Wrangling/soccer_data.csv', encoding='latin1')"
   ]
  },
  {
   "cell_type": "code",
   "execution_count": null,
   "id": "85fd0b6c-c8c0-4f90-b0ad-5e7ec66ea08e",
   "metadata": {},
   "outputs": [],
   "source": [
    "# Save the cleaned data to a new CSV file\n",
    "cleaned_file_path = ('/Users/andrewhutchcroft/Desktop/Data Wrangling/soccer.csv')\n",
    "soccer_data.to_csv(cleaned_file_path, index=False)"
   ]
  },
  {
   "cell_type": "code",
   "execution_count": null,
   "id": "a371b0df",
   "metadata": {},
   "outputs": [],
   "source": [
    "cleaned_file_path"
   ]
  }
 ],
 "metadata": {
  "kernelspec": {
   "display_name": "Python 3 (ipykernel)",
   "language": "python",
   "name": "python3"
  },
  "language_info": {
   "codemirror_mode": {
    "name": "ipython",
    "version": 3
   },
   "file_extension": ".py",
   "mimetype": "text/x-python",
   "name": "python",
   "nbconvert_exporter": "python",
   "pygments_lexer": "ipython3",
   "version": "3.12.1"
  }
 },
 "nbformat": 4,
 "nbformat_minor": 5
}
